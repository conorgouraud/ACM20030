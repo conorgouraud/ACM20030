{
 "cells": [
  {
   "cell_type": "code",
   "execution_count": 5,
   "metadata": {},
   "outputs": [],
   "source": [
    "import numpy as np\n",
    "import matplotlib.pyplot as plt"
   ]
  },
  {
   "cell_type": "code",
   "execution_count": 63,
   "metadata": {},
   "outputs": [],
   "source": [
    "#1a\n",
    "def Vectorlength(x,y):          \n",
    "    v = (np.sqrt(x**2 + y**2))  \n",
    "    return v"
   ]
  },
  {
   "cell_type": "code",
   "execution_count": 64,
   "metadata": {},
   "outputs": [
    {
     "name": "stdout",
     "output_type": "stream",
     "text": [
      "7.810249675906654\n",
      "5.0990195135927845\n"
     ]
    }
   ],
   "source": [
    "#1b\n",
    "print(Vectorlength(5,6))        \n",
    "print(Vectorlength(-1,5))"
   ]
  },
  {
   "cell_type": "code",
   "execution_count": 65,
   "metadata": {},
   "outputs": [
    {
     "name": "stdout",
     "output_type": "stream",
     "text": [
      "sin(1)=0.841\n"
     ]
    }
   ],
   "source": [
    "#1c\n",
    "print(\"sin(1)=%.3f\" % np.sin(1))   "
   ]
  },
  {
   "cell_type": "code",
   "execution_count": 66,
   "metadata": {},
   "outputs": [],
   "source": [
    "#2a,b,c\n",
    "#Function to check if a number is prime\n",
    "def IsPrime(n): \n",
    "    if n==1:\n",
    "        return 0  \n",
    "    i = 2\n",
    "    while i <= np.sqrt(n):   \n",
    "        #for each i check if it divides n\n",
    "        if(n % i == 0):\n",
    "            return 0\n",
    "        i += 1\n",
    "    return 1\n",
    "    # If no divisors are found, the number is prime"
   ]
  },
  {
   "cell_type": "code",
   "execution_count": 67,
   "metadata": {},
   "outputs": [
    {
     "name": "stdout",
     "output_type": "stream",
     "text": [
      "0\n"
     ]
    }
   ],
   "source": [
    "#Function does not work correctly, for values 1-10 it didnt work for n=1, n=4 and n=9, as sqrt is an integer.\n",
    "#in the initial code i<sqrt(n) and not i<=sqrt(n) so sqrts which are integers were forgotten about.\n",
    "#if n==1: return 0 was added to fix n=1 case, as 1 ain't prime\n",
    "print(IsPrime(1))"
   ]
  },
  {
   "cell_type": "code",
   "execution_count": 68,
   "metadata": {},
   "outputs": [
    {
     "name": "stdout",
     "output_type": "stream",
     "text": [
      "1\n"
     ]
    }
   ],
   "source": [
    "print(IsPrime(2))"
   ]
  },
  {
   "cell_type": "code",
   "execution_count": 69,
   "metadata": {},
   "outputs": [
    {
     "name": "stdout",
     "output_type": "stream",
     "text": [
      "1\n"
     ]
    }
   ],
   "source": [
    "print(IsPrime(3))"
   ]
  },
  {
   "cell_type": "code",
   "execution_count": 70,
   "metadata": {},
   "outputs": [
    {
     "name": "stdout",
     "output_type": "stream",
     "text": [
      "0\n"
     ]
    }
   ],
   "source": [
    "print(IsPrime(4))"
   ]
  },
  {
   "cell_type": "code",
   "execution_count": 71,
   "metadata": {},
   "outputs": [
    {
     "name": "stdout",
     "output_type": "stream",
     "text": [
      "1\n"
     ]
    }
   ],
   "source": [
    "print(IsPrime(5))"
   ]
  },
  {
   "cell_type": "code",
   "execution_count": 72,
   "metadata": {},
   "outputs": [
    {
     "name": "stdout",
     "output_type": "stream",
     "text": [
      "0\n"
     ]
    }
   ],
   "source": [
    "print(IsPrime(6))"
   ]
  },
  {
   "cell_type": "code",
   "execution_count": 73,
   "metadata": {},
   "outputs": [
    {
     "name": "stdout",
     "output_type": "stream",
     "text": [
      "1\n"
     ]
    }
   ],
   "source": [
    "print(IsPrime(7))"
   ]
  },
  {
   "cell_type": "code",
   "execution_count": 74,
   "metadata": {},
   "outputs": [
    {
     "name": "stdout",
     "output_type": "stream",
     "text": [
      "0\n"
     ]
    }
   ],
   "source": [
    "print(IsPrime(8))"
   ]
  },
  {
   "cell_type": "code",
   "execution_count": 75,
   "metadata": {},
   "outputs": [
    {
     "name": "stdout",
     "output_type": "stream",
     "text": [
      "0\n"
     ]
    }
   ],
   "source": [
    "print(IsPrime(9))"
   ]
  },
  {
   "cell_type": "code",
   "execution_count": 76,
   "metadata": {},
   "outputs": [
    {
     "name": "stdout",
     "output_type": "stream",
     "text": [
      "0\n"
     ]
    }
   ],
   "source": [
    "print(IsPrime(10))"
   ]
  },
  {
   "cell_type": "code",
   "execution_count": 100,
   "metadata": {},
   "outputs": [
    {
     "name": "stdout",
     "output_type": "stream",
     "text": [
      "168\n"
     ]
    }
   ],
   "source": [
    "#2e\n",
    "#Function that calculates the number of prime numbers less than 1000\n",
    "i=1\n",
    "count=0  #starting count at 0\n",
    "while i <= 1000:  \n",
    "    if(IsPrime(i)==1): \n",
    "         count+=1   #if i is prime add 1 to the count\n",
    "    i += 1  #add 1 each time it loops until i reaches 1000\n",
    "print(count)"
   ]
  },
  {
   "cell_type": "code",
   "execution_count": 96,
   "metadata": {},
   "outputs": [],
   "source": [
    "#2f\n",
    "def PrimeCount(x):\n",
    "    tp=0  #tp is the total number of primes\n",
    "    for n in range(1,x+1): #for some n between or equal to 1 and x\n",
    "        if IsPrime(n)==1:  #checking for every n between 1 and x+1 if it's prime\n",
    "            tp+=1  #then add 1 to tp if n is prime\n",
    "    return tp"
   ]
  },
  {
   "cell_type": "code",
   "execution_count": 98,
   "metadata": {},
   "outputs": [
    {
     "data": {
      "text/plain": [
       "168"
      ]
     },
     "execution_count": 98,
     "metadata": {},
     "output_type": "execute_result"
    }
   ],
   "source": [
    "PrimeCount(1000)  #counting number of primes less than or equal to 1000"
   ]
  },
  {
   "cell_type": "code",
   "execution_count": 95,
   "metadata": {},
   "outputs": [
    {
     "data": {
      "text/plain": [
       "1229"
      ]
     },
     "execution_count": 95,
     "metadata": {},
     "output_type": "execute_result"
    }
   ],
   "source": [
    "PrimeCount(10000)"
   ]
  },
  {
   "cell_type": "code",
   "execution_count": 103,
   "metadata": {},
   "outputs": [],
   "source": [
    "#2g\n",
    "x = np.arange(0,40,1) #setting x as range from 1 to 40 with increments of 1 \n",
    "Pi = np.zeros(40)     \n",
    "i = 0\n",
    "while i < np.size(Pi):\n",
    "    Pi[i] = PrimeCount(i)\n",
    "    i += 1          "
   ]
  },
  {
   "cell_type": "code",
   "execution_count": 107,
   "metadata": {
    "scrolled": true
   },
   "outputs": [
    {
     "data": {
      "text/plain": [
       "Text(0, 0.5, 'Pi(x)')"
      ]
     },
     "execution_count": 107,
     "metadata": {},
     "output_type": "execute_result"
    },
    {
     "data": {
      "image/png": "[encoded data removed]",
      "text/plain": [
       "<Figure size 432x288 with 1 Axes>"
      ]
     },
     "metadata": {
      "needs_background": "light"
     },
     "output_type": "display_data"
    }
   ],
   "source": [
    "plt.plot(x,Pi,'ro')\n",
    "plt.grid(True) #grid by default is false so must change to true \n",
    "plt.xlabel('x') #labelling the x-axis\n",
    "plt.ylabel('Pi(x)')"
   ]
  },
  {
   "cell_type": "code",
   "execution_count": 129,
   "metadata": {},
   "outputs": [
    {
     "data": {
      "text/plain": [
       "array([[1.000e-01, 1.000e-02],\n",
       "       [2.000e-01, 4.000e-02],\n",
       "       [3.000e-01, 9.000e-02],\n",
       "       [4.000e-01, 1.600e-01],\n",
       "       [5.000e-01, 2.500e-01],\n",
       "       [6.000e-01, 3.600e-01],\n",
       "       [7.000e-01, 4.900e-01],\n",
       "       [8.000e-01, 6.400e-01],\n",
       "       [9.000e-01, 8.100e-01],\n",
       "       [1.000e+00, 1.000e+00],\n",
       "       [1.100e+00, 1.210e+00],\n",
       "       [1.200e+00, 1.440e+00],\n",
       "       [1.300e+00, 1.690e+00],\n",
       "       [1.400e+00, 1.960e+00],\n",
       "       [1.500e+00, 2.250e+00],\n",
       "       [1.600e+00, 2.560e+00],\n",
       "       [1.700e+00, 2.890e+00],\n",
       "       [1.800e+00, 3.240e+00],\n",
       "       [1.900e+00, 3.610e+00],\n",
       "       [2.000e+00, 4.000e+00],\n",
       "       [2.100e+00, 4.410e+00],\n",
       "       [2.200e+00, 4.840e+00],\n",
       "       [2.300e+00, 5.290e+00],\n",
       "       [2.400e+00, 5.760e+00],\n",
       "       [2.500e+00, 6.250e+00],\n",
       "       [2.600e+00, 6.760e+00],\n",
       "       [2.700e+00, 7.290e+00],\n",
       "       [2.800e+00, 7.840e+00],\n",
       "       [2.900e+00, 8.410e+00],\n",
       "       [3.000e+00, 9.000e+00],\n",
       "       [3.100e+00, 9.610e+00],\n",
       "       [3.200e+00, 1.024e+01],\n",
       "       [3.300e+00, 1.089e+01],\n",
       "       [3.400e+00, 1.156e+01],\n",
       "       [3.500e+00, 1.225e+01],\n",
       "       [3.600e+00, 1.296e+01],\n",
       "       [3.700e+00, 1.369e+01],\n",
       "       [3.800e+00, 1.444e+01],\n",
       "       [3.900e+00, 1.521e+01],\n",
       "       [4.000e+00, 1.600e+01],\n",
       "       [4.100e+00, 1.681e+01],\n",
       "       [4.200e+00, 1.764e+01],\n",
       "       [4.300e+00, 1.849e+01],\n",
       "       [4.400e+00, 1.936e+01],\n",
       "       [4.500e+00, 2.025e+01],\n",
       "       [4.600e+00, 2.116e+01],\n",
       "       [4.700e+00, 2.209e+01],\n",
       "       [4.800e+00, 2.304e+01],\n",
       "       [4.900e+00, 2.401e+01],\n",
       "       [5.000e+00, 2.500e+01],\n",
       "       [5.100e+00, 2.601e+01],\n",
       "       [5.200e+00, 2.704e+01],\n",
       "       [5.300e+00, 2.809e+01],\n",
       "       [5.400e+00, 2.916e+01],\n",
       "       [5.500e+00, 3.025e+01],\n",
       "       [5.600e+00, 3.136e+01],\n",
       "       [5.700e+00, 3.249e+01],\n",
       "       [5.800e+00, 3.364e+01],\n",
       "       [5.900e+00, 3.481e+01],\n",
       "       [6.000e+00, 3.600e+01],\n",
       "       [6.100e+00, 3.721e+01],\n",
       "       [6.200e+00, 3.844e+01],\n",
       "       [6.300e+00, 3.969e+01],\n",
       "       [6.400e+00, 4.096e+01],\n",
       "       [6.500e+00, 4.225e+01],\n",
       "       [6.600e+00, 4.356e+01],\n",
       "       [6.700e+00, 4.489e+01],\n",
       "       [6.800e+00, 4.624e+01],\n",
       "       [6.900e+00, 4.761e+01],\n",
       "       [7.000e+00, 4.900e+01],\n",
       "       [7.100e+00, 5.041e+01],\n",
       "       [7.200e+00, 5.184e+01],\n",
       "       [7.300e+00, 5.329e+01],\n",
       "       [7.400e+00, 5.476e+01],\n",
       "       [7.500e+00, 5.625e+01],\n",
       "       [7.600e+00, 5.776e+01],\n",
       "       [7.700e+00, 5.929e+01],\n",
       "       [7.800e+00, 6.084e+01],\n",
       "       [7.900e+00, 6.241e+01],\n",
       "       [8.000e+00, 6.400e+01],\n",
       "       [8.100e+00, 6.561e+01],\n",
       "       [8.200e+00, 6.724e+01],\n",
       "       [8.300e+00, 6.889e+01],\n",
       "       [8.400e+00, 7.056e+01],\n",
       "       [8.500e+00, 7.225e+01],\n",
       "       [8.600e+00, 7.396e+01],\n",
       "       [8.700e+00, 7.569e+01],\n",
       "       [8.800e+00, 7.744e+01],\n",
       "       [8.900e+00, 7.921e+01],\n",
       "       [9.000e+00, 8.100e+01],\n",
       "       [9.100e+00, 8.281e+01],\n",
       "       [9.200e+00, 8.464e+01],\n",
       "       [9.300e+00, 8.649e+01],\n",
       "       [9.400e+00, 8.836e+01],\n",
       "       [9.500e+00, 9.025e+01],\n",
       "       [9.600e+00, 9.216e+01],\n",
       "       [9.700e+00, 9.409e+01],\n",
       "       [9.800e+00, 9.604e+01],\n",
       "       [9.900e+00, 9.801e+01],\n",
       "       [1.000e+01, 1.000e+02]])"
      ]
     },
     "execution_count": 129,
     "metadata": {},
     "output_type": "execute_result"
    }
   ],
   "source": [
    "#3a,b\n",
    "#colon np.array lookup\n",
    "np.loadtxt('PowerLawOrExponential.txt')"
   ]
  },
  {
   "cell_type": "code",
   "execution_count": 7,
   "metadata": {},
   "outputs": [
    {
     "name": "stdout",
     "output_type": "stream",
     "text": [
      "[ 0.1  0.2  0.3  0.4  0.5  0.6  0.7  0.8  0.9  1.   1.1  1.2  1.3  1.4\n",
      "  1.5  1.6  1.7  1.8  1.9  2.   2.1  2.2  2.3  2.4  2.5  2.6  2.7  2.8\n",
      "  2.9  3.   3.1  3.2  3.3  3.4  3.5  3.6  3.7  3.8  3.9  4.   4.1  4.2\n",
      "  4.3  4.4  4.5  4.6  4.7  4.8  4.9  5.   5.1  5.2  5.3  5.4  5.5  5.6\n",
      "  5.7  5.8  5.9  6.   6.1  6.2  6.3  6.4  6.5  6.6  6.7  6.8  6.9  7.\n",
      "  7.1  7.2  7.3  7.4  7.5  7.6  7.7  7.8  7.9  8.   8.1  8.2  8.3  8.4\n",
      "  8.5  8.6  8.7  8.8  8.9  9.   9.1  9.2  9.3  9.4  9.5  9.6  9.7  9.8\n",
      "  9.9 10. ]\n",
      "[1.000e-02 4.000e-02 9.000e-02 1.600e-01 2.500e-01 3.600e-01 4.900e-01\n",
      " 6.400e-01 8.100e-01 1.000e+00 1.210e+00 1.440e+00 1.690e+00 1.960e+00\n",
      " 2.250e+00 2.560e+00 2.890e+00 3.240e+00 3.610e+00 4.000e+00 4.410e+00\n",
      " 4.840e+00 5.290e+00 5.760e+00 6.250e+00 6.760e+00 7.290e+00 7.840e+00\n",
      " 8.410e+00 9.000e+00 9.610e+00 1.024e+01 1.089e+01 1.156e+01 1.225e+01\n",
      " 1.296e+01 1.369e+01 1.444e+01 1.521e+01 1.600e+01 1.681e+01 1.764e+01\n",
      " 1.849e+01 1.936e+01 2.025e+01 2.116e+01 2.209e+01 2.304e+01 2.401e+01\n",
      " 2.500e+01 2.601e+01 2.704e+01 2.809e+01 2.916e+01 3.025e+01 3.136e+01\n",
      " 3.249e+01 3.364e+01 3.481e+01 3.600e+01 3.721e+01 3.844e+01 3.969e+01\n",
      " 4.096e+01 4.225e+01 4.356e+01 4.489e+01 4.624e+01 4.761e+01 4.900e+01\n",
      " 5.041e+01 5.184e+01 5.329e+01 5.476e+01 5.625e+01 5.776e+01 5.929e+01\n",
      " 6.084e+01 6.241e+01 6.400e+01 6.561e+01 6.724e+01 6.889e+01 7.056e+01\n",
      " 7.225e+01 7.396e+01 7.569e+01 7.744e+01 7.921e+01 8.100e+01 8.281e+01\n",
      " 8.464e+01 8.649e+01 8.836e+01 9.025e+01 9.216e+01 9.409e+01 9.604e+01\n",
      " 9.801e+01 1.000e+02]\n"
     ]
    }
   ],
   "source": [
    "x = np.loadtxt('PowerLawOrExponential.txt')[:,0] #setting x as the whole 1st column of the array\n",
    "y = np.loadtxt('PowerLawOrExponential.txt')[:,1] #setting y as the whole 2nd column of the array\n",
    "print(x)\n",
    "print(y)"
   ]
  },
  {
   "cell_type": "code",
   "execution_count": 10,
   "metadata": {},
   "outputs": [
    {
     "data": {
      "image/png": "[encoded data removed]",
      "text/plain": [
       "<Figure size 432x288 with 1 Axes>"
      ]
     },
     "metadata": {
      "needs_background": "light"
     },
     "output_type": "display_data"
    }
   ],
   "source": [
    "#3c\n",
    "plt.title('Log(x) vs. Log(y)')\n",
    "plt.xlabel('Log(x)')\n",
    "plt.ylabel('Log(y)')\n",
    "plt.plot(np.log(x), np.log(y), 'r--') \n",
    "plt.grid(True)"
   ]
  },
  {
   "cell_type": "code",
   "execution_count": 12,
   "metadata": {},
   "outputs": [
    {
     "data": {
      "image/png": "[encoded data removed]",
      "text/plain": [
       "<Figure size 432x288 with 1 Axes>"
      ]
     },
     "metadata": {
      "needs_background": "light"
     },
     "output_type": "display_data"
    }
   ],
   "source": [
    "plt.title('x vs. Log(y)')\n",
    "plt.xlabel('x')\n",
    "plt.ylabel('Log(y)')\n",
    "plt.plot(x, np.log(y))\n",
    "plt.grid(True)"
   ]
  },
  {
   "cell_type": "code",
   "execution_count": 13,
   "metadata": {},
   "outputs": [],
   "source": [
    "#3d\n",
    "# It is a discrete representation of the power law (x**n) as the power law function appears straight on the log-log plot."
   ]
  },
  {
   "cell_type": "code",
   "execution_count": null,
   "metadata": {},
   "outputs": [],
   "source": [
    "#3e\n",
    "#n is the slope of the line on the log-log plotted graph\n",
    "# so n = 4/2 = 2"
   ]
  }
 ],
 "metadata": {
  "kernelspec": {
   "display_name": "Python 3",
   "language": "python",
   "name": "python3"
  },
  "language_info": {
   "codemirror_mode": {
    "name": "ipython",
    "version": 3
   },
   "file_extension": ".py",
   "mimetype": "text/x-python",
   "name": "python",
   "nbconvert_exporter": "python",
   "pygments_lexer": "ipython3",
   "version": "3.7.4"
  }
 },
 "nbformat": 4,
 "nbformat_minor": 2
}
